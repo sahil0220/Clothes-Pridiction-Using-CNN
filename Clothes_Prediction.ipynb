{
  "nbformat": 4,
  "nbformat_minor": 0,
  "metadata": {
    "colab": {
      "name": "Clothes_Prediction.ipynb",
      "provenance": [],
      "include_colab_link": true
    },
    "kernelspec": {
      "name": "python3",
      "display_name": "Python 3"
    },
    "accelerator": "GPU"
  },
  "cells": [
    {
      "cell_type": "markdown",
      "metadata": {
        "id": "view-in-github",
        "colab_type": "text"
      },
      "source": [
        "<a href=\"https://colab.research.google.com/github/sahil0220/Clothes-Pridiction-Using-CNN/blob/master/Clothes_Prediction.ipynb\" target=\"_parent\"><img src=\"https://colab.research.google.com/assets/colab-badge.svg\" alt=\"Open In Colab\"/></a>"
      ]
    },
    {
      "cell_type": "code",
      "metadata": {
        "id": "3FOpunI6hEz5",
        "colab_type": "code",
        "colab": {
          "base_uri": "https://localhost:8080/",
          "height": 34
        },
        "outputId": "4142bdfe-b144-44ba-c917-af9437d5479a"
      },
      "source": [
        "import numpy as np\n",
        "from keras.datasets import fashion_mnist"
      ],
      "execution_count": null,
      "outputs": [
        {
          "output_type": "stream",
          "text": [
            "Using TensorFlow backend.\n"
          ],
          "name": "stderr"
        }
      ]
    },
    {
      "cell_type": "code",
      "metadata": {
        "id": "6wFFLzPMi1AE",
        "colab_type": "code",
        "colab": {
          "base_uri": "https://localhost:8080/",
          "height": 153
        },
        "outputId": "31f035a1-0a70-446f-e0d2-db8972a980ce"
      },
      "source": [
        "(x_train, y_train), (x_test, y_test)=fashion_mnist.load_data()"
      ],
      "execution_count": null,
      "outputs": [
        {
          "output_type": "stream",
          "text": [
            "Downloading data from http://fashion-mnist.s3-website.eu-central-1.amazonaws.com/train-labels-idx1-ubyte.gz\n",
            "32768/29515 [=================================] - 0s 0us/step\n",
            "Downloading data from http://fashion-mnist.s3-website.eu-central-1.amazonaws.com/train-images-idx3-ubyte.gz\n",
            "26427392/26421880 [==============================] - 0s 0us/step\n",
            "Downloading data from http://fashion-mnist.s3-website.eu-central-1.amazonaws.com/t10k-labels-idx1-ubyte.gz\n",
            "8192/5148 [===============================================] - 0s 0us/step\n",
            "Downloading data from http://fashion-mnist.s3-website.eu-central-1.amazonaws.com/t10k-images-idx3-ubyte.gz\n",
            "4423680/4422102 [==============================] - 0s 0us/step\n"
          ],
          "name": "stdout"
        }
      ]
    },
    {
      "cell_type": "code",
      "metadata": {
        "id": "2UJXDgBvj3OU",
        "colab_type": "code",
        "colab": {
          "base_uri": "https://localhost:8080/",
          "height": 136
        },
        "outputId": "47c1bee7-e80d-48f2-8e3c-527c8a4c9469"
      },
      "source": [
        "print(\"Number of samples in training dataset: \"+ str(len(x_train)))\n",
        "print(\"Number of labels in training dataset: \"+ str(len(y_train)))\n",
        "print(\"Dimensions of a single image in x_train: \"+ str(len(x_train[0].shape)))\n",
        "print(\"--------------------------------------------------------------\")\n",
        "print(\"Number of samples in test dataset: \"+ str(len(x_test)))\n",
        "print(\"Number of labels in test dataset: \"+ str(len(y_test)))\n",
        "print(\"Dimensions of a single image in x_test: \"+ str(len(x_test[0].shape)))"
      ],
      "execution_count": null,
      "outputs": [
        {
          "output_type": "stream",
          "text": [
            "Number of samples in training dataset: 60000\n",
            "Number of labels in training dataset: 60000\n",
            "Dimensions of a single image in x_train: 2\n",
            "--------------------------------------------------------------\n",
            "Number of samples in test dataset: 10000\n",
            "Number of labels in test dataset: 10000\n",
            "Dimensions of a single image in x_test: 2\n"
          ],
          "name": "stdout"
        }
      ]
    },
    {
      "cell_type": "code",
      "metadata": {
        "id": "NuA3GcNVnJF-",
        "colab_type": "code",
        "colab": {
          "base_uri": "https://localhost:8080/",
          "height": 284
        },
        "outputId": "a708b7fa-d264-46c1-c1e2-3dec17f29420"
      },
      "source": [
        "import matplotlib.pyplot as plt\n",
        "\n",
        "plt.subplot(231)\n",
        "random_num= np.random.randint(0,len(x_train))\n",
        "plt.imshow(x_train[random_num], cmap=plt.get_cmap(\"gray\"))\n",
        "\n",
        "plt.subplot(232)\n",
        "random_num= np.random.randint(0,len(x_train))\n",
        "plt.imshow(x_train[random_num], cmap=plt.get_cmap(\"gray\"))\n",
        "\n",
        "plt.subplot(233)\n",
        "random_num= np.random.randint(0,len(x_train))\n",
        "plt.imshow(x_train[random_num], cmap=plt.get_cmap(\"gray\"))\n",
        "\n",
        "plt.subplot(234)\n",
        "random_num= np.random.randint(0,len(x_train))\n",
        "plt.imshow(x_train[random_num], cmap=plt.get_cmap(\"gray\"))\n",
        "\n",
        "plt.subplot(235)\n",
        "random_num= np.random.randint(0,len(x_train))\n",
        "plt.imshow(x_train[random_num], cmap=plt.get_cmap(\"gray\"))\n",
        "\n",
        "plt.subplot(236)\n",
        "random_num= np.random.randint(0,len(x_train))\n",
        "plt.imshow(x_train[random_num], cmap=plt.get_cmap(\"gray\"))"
      ],
      "execution_count": null,
      "outputs": [
        {
          "output_type": "execute_result",
          "data": {
            "text/plain": [
              "<matplotlib.image.AxesImage at 0x7fdd263f7fd0>"
            ]
          },
          "metadata": {
            "tags": []
          },
          "execution_count": 11
        },
        {
          "output_type": "display_data",
          "data": {
            "image/png": "[encoded data removed]",
            "text/plain": [
              "<Figure size 432x288 with 6 Axes>"
            ]
          },
          "metadata": {
            "tags": [],
            "needs_background": "light"
          }
        }
      ]
    },
    {
      "cell_type": "code",
      "metadata": {
        "id": "Sn4yb_GZuf5o",
        "colab_type": "code",
        "colab": {
          "base_uri": "https://localhost:8080/",
          "height": 544
        },
        "outputId": "af963f8e-1237-4b0b-87cc-a56d955d045e"
      },
      "source": [
        "import keras\n",
        "from keras.utils import np_utils \n",
        "from keras.models import Sequential\n",
        "from keras.layers import Dense, Dropout, Flatten\n",
        "from keras.layers import Conv2D, MaxPooling2D, BatchNormalization\n",
        "from keras import backend as K\n",
        "\n",
        "batch_size=128\n",
        "epochs= 100\n",
        "\n",
        "img_rows=x_train[0].shape[0]\n",
        "img_cols=x_train[1].shape[0]\n",
        "\n",
        "x_train=x_train.reshape(x_train.shape[0], img_rows, img_cols, 1)\n",
        "x_test=x_test.reshape(x_test.shape[0], img_rows, img_cols, 1)\n",
        "\n",
        "input_shape=(img_rows, img_cols, 1)\n",
        "\n",
        "x_train=x_train.astype('float32')\n",
        "x_test=x_test.astype('float32')\n",
        "\n",
        "x_train/=255 \n",
        "x_test/=255\n",
        "\n",
        "y_train= np_utils.to_categorical(y_train)\n",
        "y_test= np_utils.to_categorical(y_test)\n",
        "\n",
        "num_classes=y_test.shape[1]\n",
        "num_pixels=x_train.shape[1]*x_train.shape[2]\n",
        "\n",
        "\n",
        "model=Sequential()\n",
        "\n",
        "model.add(Conv2D(32,kernel_size=(3,3), activation='relu', input_shape=input_shape))\n",
        "model.add(BatchNormalization())\n",
        "\n",
        "model.add(Conv2D(64,(3,3), activation='relu'))\n",
        "model.add(BatchNormalization())\n",
        "\n",
        "model.add(MaxPooling2D(pool_size=(2,2)))\n",
        "model.add(Dropout(0.25))\n",
        "\n",
        "model.add(Flatten())\n",
        "model.add(Dense(128,activation='relu'))\n",
        "model.add(BatchNormalization())\n",
        "\n",
        "model.add(Dropout(0.5))\n",
        "model.add(Dense(num_classes,activation='softmax'))\n",
        "\n",
        "model.compile(loss='categorical_crossentropy',\n",
        "              optimizer=keras.optimizers.Adadelta(),\n",
        "              metrics=['accuracy'])\n",
        "\n",
        "print(model.summary())\n",
        "\n"
      ],
      "execution_count": null,
      "outputs": [
        {
          "output_type": "stream",
          "text": [
            "Model: \"sequential_1\"\n",
            "_________________________________________________________________\n",
            "Layer (type)                 Output Shape              Param #   \n",
            "=================================================================\n",
            "conv2d_1 (Conv2D)            (None, 26, 26, 32)        320       \n",
            "_________________________________________________________________\n",
            "batch_normalization_1 (Batch (None, 26, 26, 32)        128       \n",
            "_________________________________________________________________\n",
            "conv2d_2 (Conv2D)            (None, 24, 24, 64)        18496     \n",
            "_________________________________________________________________\n",
            "batch_normalization_2 (Batch (None, 24, 24, 64)        256       \n",
            "_________________________________________________________________\n",
            "max_pooling2d_1 (MaxPooling2 (None, 12, 12, 64)        0         \n",
            "_________________________________________________________________\n",
            "dropout_1 (Dropout)          (None, 12, 12, 64)        0         \n",
            "_________________________________________________________________\n",
            "flatten_1 (Flatten)          (None, 9216)              0         \n",
            "_________________________________________________________________\n",
            "dense_1 (Dense)              (None, 128)               1179776   \n",
            "_________________________________________________________________\n",
            "batch_normalization_3 (Batch (None, 128)               512       \n",
            "_________________________________________________________________\n",
            "dropout_2 (Dropout)          (None, 128)               0         \n",
            "_________________________________________________________________\n",
            "dense_2 (Dense)              (None, 10)                1290      \n",
            "=================================================================\n",
            "Total params: 1,200,778\n",
            "Trainable params: 1,200,330\n",
            "Non-trainable params: 448\n",
            "_________________________________________________________________\n",
            "None\n"
          ],
          "name": "stdout"
        }
      ]
    },
    {
      "cell_type": "code",
      "metadata": {
        "id": "fE9lKqCjzz-k",
        "colab_type": "code",
        "colab": {
          "base_uri": "https://localhost:8080/",
          "height": 1000
        },
        "outputId": "e806b4a6-c547-40fa-ed8f-a01c0814d49c"
      },
      "source": [
        "model_fitting=model.fit(x_train,y_train,\n",
        "                        batch_size=batch_size,\n",
        "                        epochs=epochs,\n",
        "                        verbose=1,\n",
        "                        validation_data=(x_test,y_test))\n",
        "\n",
        "score=model.evaluate(x_test, y_test, verbose=0)\n",
        "print(\"The test loss = \", score[0])\n",
        "print(\"The test accuracy = \", score[1])"
      ],
      "execution_count": null,
      "outputs": [
        {
          "output_type": "stream",
          "text": [
            "Train on 60000 samples, validate on 10000 samples\n",
            "Epoch 1/100\n",
            "60000/60000 [==============================] - 17s 280us/step - loss: 0.4475 - accuracy: 0.8450 - val_loss: 2.2923 - val_accuracy: 0.5150\n",
            "Epoch 2/100\n",
            "60000/60000 [==============================] - 9s 154us/step - loss: 0.2852 - accuracy: 0.8999 - val_loss: 0.2685 - val_accuracy: 0.9032\n",
            "Epoch 3/100\n",
            "60000/60000 [==============================] - 9s 153us/step - loss: 0.2369 - accuracy: 0.9140 - val_loss: 0.2455 - val_accuracy: 0.9126\n",
            "Epoch 4/100\n",
            "60000/60000 [==============================] - 9s 154us/step - loss: 0.2070 - accuracy: 0.9261 - val_loss: 0.2434 - val_accuracy: 0.9122\n",
            "Epoch 5/100\n",
            "60000/60000 [==============================] - 9s 156us/step - loss: 0.1867 - accuracy: 0.9327 - val_loss: 0.2284 - val_accuracy: 0.9211\n",
            "Epoch 6/100\n",
            "60000/60000 [==============================] - 9s 155us/step - loss: 0.1701 - accuracy: 0.9375 - val_loss: 0.2194 - val_accuracy: 0.9222\n",
            "Epoch 7/100\n",
            "60000/60000 [==============================] - 9s 155us/step - loss: 0.1537 - accuracy: 0.9435 - val_loss: 0.2192 - val_accuracy: 0.9234\n",
            "Epoch 8/100\n",
            "60000/60000 [==============================] - 9s 153us/step - loss: 0.1427 - accuracy: 0.9482 - val_loss: 0.2274 - val_accuracy: 0.9235\n",
            "Epoch 9/100\n",
            "60000/60000 [==============================] - 9s 154us/step - loss: 0.1275 - accuracy: 0.9534 - val_loss: 0.2196 - val_accuracy: 0.9273\n",
            "Epoch 10/100\n",
            "60000/60000 [==============================] - 9s 154us/step - loss: 0.1202 - accuracy: 0.9559 - val_loss: 0.2278 - val_accuracy: 0.9255\n",
            "Epoch 11/100\n",
            "60000/60000 [==============================] - 9s 155us/step - loss: 0.1119 - accuracy: 0.9595 - val_loss: 0.2221 - val_accuracy: 0.9300\n",
            "Epoch 12/100\n",
            "60000/60000 [==============================] - 9s 156us/step - loss: 0.1040 - accuracy: 0.9618 - val_loss: 0.2238 - val_accuracy: 0.9293\n",
            "Epoch 13/100\n",
            "60000/60000 [==============================] - 9s 154us/step - loss: 0.0995 - accuracy: 0.9640 - val_loss: 0.2233 - val_accuracy: 0.9283\n",
            "Epoch 14/100\n",
            "60000/60000 [==============================] - 9s 156us/step - loss: 0.0904 - accuracy: 0.9664 - val_loss: 0.2544 - val_accuracy: 0.9283\n",
            "Epoch 15/100\n",
            "60000/60000 [==============================] - 9s 154us/step - loss: 0.0870 - accuracy: 0.9688 - val_loss: 0.2568 - val_accuracy: 0.9283\n",
            "Epoch 16/100\n",
            "60000/60000 [==============================] - 9s 157us/step - loss: 0.0839 - accuracy: 0.9695 - val_loss: 0.2568 - val_accuracy: 0.9298\n",
            "Epoch 17/100\n",
            "60000/60000 [==============================] - 9s 154us/step - loss: 0.0783 - accuracy: 0.9714 - val_loss: 0.2707 - val_accuracy: 0.9245\n",
            "Epoch 18/100\n",
            "60000/60000 [==============================] - 9s 153us/step - loss: 0.0756 - accuracy: 0.9729 - val_loss: 0.2856 - val_accuracy: 0.9258\n",
            "Epoch 19/100\n",
            "60000/60000 [==============================] - 9s 155us/step - loss: 0.0707 - accuracy: 0.9744 - val_loss: 0.2629 - val_accuracy: 0.9292\n",
            "Epoch 20/100\n",
            "60000/60000 [==============================] - 9s 153us/step - loss: 0.0691 - accuracy: 0.9748 - val_loss: 0.2483 - val_accuracy: 0.9242\n",
            "Epoch 21/100\n",
            "60000/60000 [==============================] - 9s 155us/step - loss: 0.0655 - accuracy: 0.9767 - val_loss: 0.3045 - val_accuracy: 0.9306\n",
            "Epoch 22/100\n",
            "60000/60000 [==============================] - 9s 154us/step - loss: 0.0637 - accuracy: 0.9768 - val_loss: 0.2738 - val_accuracy: 0.9271\n",
            "Epoch 23/100\n",
            "60000/60000 [==============================] - 9s 157us/step - loss: 0.0636 - accuracy: 0.9766 - val_loss: 0.2707 - val_accuracy: 0.9284\n",
            "Epoch 24/100\n",
            "60000/60000 [==============================] - 9s 155us/step - loss: 0.0598 - accuracy: 0.9789 - val_loss: 0.2984 - val_accuracy: 0.9246\n",
            "Epoch 25/100\n",
            "60000/60000 [==============================] - 9s 155us/step - loss: 0.0562 - accuracy: 0.9798 - val_loss: 0.2903 - val_accuracy: 0.9299\n",
            "Epoch 26/100\n",
            "60000/60000 [==============================] - 9s 155us/step - loss: 0.0547 - accuracy: 0.9801 - val_loss: 0.2683 - val_accuracy: 0.9316\n",
            "Epoch 27/100\n",
            "60000/60000 [==============================] - 9s 153us/step - loss: 0.0529 - accuracy: 0.9801 - val_loss: 0.3255 - val_accuracy: 0.9323\n",
            "Epoch 28/100\n",
            "60000/60000 [==============================] - 9s 153us/step - loss: 0.0526 - accuracy: 0.9809 - val_loss: 0.2871 - val_accuracy: 0.9326\n",
            "Epoch 29/100\n",
            "60000/60000 [==============================] - 9s 155us/step - loss: 0.0516 - accuracy: 0.9814 - val_loss: 0.3306 - val_accuracy: 0.9302\n",
            "Epoch 30/100\n",
            "60000/60000 [==============================] - 9s 154us/step - loss: 0.0507 - accuracy: 0.9819 - val_loss: 0.2748 - val_accuracy: 0.9307\n",
            "Epoch 31/100\n",
            "60000/60000 [==============================] - 9s 154us/step - loss: 0.0482 - accuracy: 0.9831 - val_loss: 0.2798 - val_accuracy: 0.9309\n",
            "Epoch 32/100\n",
            "60000/60000 [==============================] - 9s 156us/step - loss: 0.0478 - accuracy: 0.9827 - val_loss: 0.2586 - val_accuracy: 0.9283\n",
            "Epoch 33/100\n",
            "60000/60000 [==============================] - 9s 155us/step - loss: 0.0439 - accuracy: 0.9839 - val_loss: 0.3351 - val_accuracy: 0.9267\n",
            "Epoch 34/100\n",
            "60000/60000 [==============================] - 9s 154us/step - loss: 0.0443 - accuracy: 0.9846 - val_loss: 0.2867 - val_accuracy: 0.9314\n",
            "Epoch 35/100\n",
            "60000/60000 [==============================] - 9s 154us/step - loss: 0.0432 - accuracy: 0.9846 - val_loss: 0.3053 - val_accuracy: 0.9340\n",
            "Epoch 36/100\n",
            "60000/60000 [==============================] - 9s 154us/step - loss: 0.0440 - accuracy: 0.9843 - val_loss: 0.3957 - val_accuracy: 0.9312\n",
            "Epoch 37/100\n",
            "60000/60000 [==============================] - 9s 154us/step - loss: 0.0407 - accuracy: 0.9858 - val_loss: 0.3497 - val_accuracy: 0.9295\n",
            "Epoch 38/100\n",
            "60000/60000 [==============================] - 9s 155us/step - loss: 0.0379 - accuracy: 0.9864 - val_loss: 0.3022 - val_accuracy: 0.9308\n",
            "Epoch 39/100\n",
            "60000/60000 [==============================] - 9s 154us/step - loss: 0.0423 - accuracy: 0.9854 - val_loss: 0.4069 - val_accuracy: 0.9320\n",
            "Epoch 40/100\n",
            "60000/60000 [==============================] - 9s 156us/step - loss: 0.0404 - accuracy: 0.9861 - val_loss: 0.3966 - val_accuracy: 0.9333\n",
            "Epoch 41/100\n",
            "60000/60000 [==============================] - 9s 155us/step - loss: 0.0396 - accuracy: 0.9863 - val_loss: 0.2838 - val_accuracy: 0.9313\n",
            "Epoch 42/100\n",
            "60000/60000 [==============================] - 9s 154us/step - loss: 0.0371 - accuracy: 0.9870 - val_loss: 0.3400 - val_accuracy: 0.9331\n",
            "Epoch 43/100\n",
            "60000/60000 [==============================] - 9s 154us/step - loss: 0.0361 - accuracy: 0.9873 - val_loss: 0.3164 - val_accuracy: 0.9332\n",
            "Epoch 44/100\n",
            "60000/60000 [==============================] - 9s 154us/step - loss: 0.0376 - accuracy: 0.9869 - val_loss: 0.3565 - val_accuracy: 0.9312\n",
            "Epoch 45/100\n",
            "60000/60000 [==============================] - 9s 157us/step - loss: 0.0386 - accuracy: 0.9863 - val_loss: 0.3150 - val_accuracy: 0.9289\n",
            "Epoch 46/100\n",
            "60000/60000 [==============================] - 9s 153us/step - loss: 0.0372 - accuracy: 0.9870 - val_loss: 0.4438 - val_accuracy: 0.9310\n",
            "Epoch 47/100\n",
            "60000/60000 [==============================] - 9s 155us/step - loss: 0.0354 - accuracy: 0.9874 - val_loss: 0.4027 - val_accuracy: 0.9336\n",
            "Epoch 48/100\n",
            "60000/60000 [==============================] - 9s 154us/step - loss: 0.0369 - accuracy: 0.9871 - val_loss: 0.2928 - val_accuracy: 0.9276\n",
            "Epoch 49/100\n",
            "60000/60000 [==============================] - 9s 156us/step - loss: 0.0341 - accuracy: 0.9880 - val_loss: 0.2993 - val_accuracy: 0.9321\n",
            "Epoch 50/100\n",
            "60000/60000 [==============================] - 9s 154us/step - loss: 0.0318 - accuracy: 0.9886 - val_loss: 0.3742 - val_accuracy: 0.9327\n",
            "Epoch 51/100\n",
            "60000/60000 [==============================] - 9s 157us/step - loss: 0.0317 - accuracy: 0.9886 - val_loss: 0.4006 - val_accuracy: 0.9324\n",
            "Epoch 52/100\n",
            "60000/60000 [==============================] - 9s 154us/step - loss: 0.0345 - accuracy: 0.9883 - val_loss: 0.4364 - val_accuracy: 0.9340\n",
            "Epoch 53/100\n",
            "60000/60000 [==============================] - 9s 155us/step - loss: 0.0311 - accuracy: 0.9891 - val_loss: 0.5864 - val_accuracy: 0.9321\n",
            "Epoch 54/100\n",
            "60000/60000 [==============================] - 9s 153us/step - loss: 0.0324 - accuracy: 0.9887 - val_loss: 0.3729 - val_accuracy: 0.9303\n",
            "Epoch 55/100\n",
            "60000/60000 [==============================] - 9s 155us/step - loss: 0.0314 - accuracy: 0.9888 - val_loss: 0.5295 - val_accuracy: 0.9320\n",
            "Epoch 56/100\n",
            "60000/60000 [==============================] - 9s 157us/step - loss: 0.0322 - accuracy: 0.9890 - val_loss: 0.2942 - val_accuracy: 0.9323\n",
            "Epoch 57/100\n",
            "60000/60000 [==============================] - 9s 157us/step - loss: 0.0319 - accuracy: 0.9891 - val_loss: 0.4763 - val_accuracy: 0.9323\n",
            "Epoch 58/100\n",
            "60000/60000 [==============================] - 9s 156us/step - loss: 0.0318 - accuracy: 0.9885 - val_loss: 0.2902 - val_accuracy: 0.9322\n",
            "Epoch 59/100\n",
            "60000/60000 [==============================] - 9s 157us/step - loss: 0.0297 - accuracy: 0.9895 - val_loss: 0.3870 - val_accuracy: 0.9337\n",
            "Epoch 60/100\n",
            "60000/60000 [==============================] - 9s 155us/step - loss: 0.0293 - accuracy: 0.9895 - val_loss: 0.3313 - val_accuracy: 0.9320\n",
            "Epoch 61/100\n",
            "60000/60000 [==============================] - 9s 155us/step - loss: 0.0288 - accuracy: 0.9899 - val_loss: 0.4300 - val_accuracy: 0.9347\n",
            "Epoch 62/100\n",
            "60000/60000 [==============================] - 9s 156us/step - loss: 0.0292 - accuracy: 0.9901 - val_loss: 0.3259 - val_accuracy: 0.9325\n",
            "Epoch 63/100\n",
            "60000/60000 [==============================] - 9s 154us/step - loss: 0.0269 - accuracy: 0.9906 - val_loss: 0.3969 - val_accuracy: 0.9332\n",
            "Epoch 64/100\n",
            "60000/60000 [==============================] - 9s 154us/step - loss: 0.0288 - accuracy: 0.9901 - val_loss: 0.4924 - val_accuracy: 0.9335\n",
            "Epoch 65/100\n",
            "60000/60000 [==============================] - 9s 154us/step - loss: 0.0284 - accuracy: 0.9901 - val_loss: 0.3226 - val_accuracy: 0.9307\n",
            "Epoch 66/100\n",
            "60000/60000 [==============================] - 9s 153us/step - loss: 0.0272 - accuracy: 0.9911 - val_loss: 0.3546 - val_accuracy: 0.9330\n",
            "Epoch 67/100\n",
            "60000/60000 [==============================] - 9s 156us/step - loss: 0.0286 - accuracy: 0.9905 - val_loss: 0.3632 - val_accuracy: 0.9314\n",
            "Epoch 68/100\n",
            "60000/60000 [==============================] - 9s 155us/step - loss: 0.0262 - accuracy: 0.9909 - val_loss: 0.3832 - val_accuracy: 0.9297\n",
            "Epoch 69/100\n",
            "60000/60000 [==============================] - 9s 153us/step - loss: 0.0267 - accuracy: 0.9908 - val_loss: 0.3118 - val_accuracy: 0.9336\n",
            "Epoch 70/100\n",
            "60000/60000 [==============================] - 9s 155us/step - loss: 0.0273 - accuracy: 0.9905 - val_loss: 0.4008 - val_accuracy: 0.9340\n",
            "Epoch 71/100\n",
            "60000/60000 [==============================] - 9s 157us/step - loss: 0.0256 - accuracy: 0.9911 - val_loss: 0.4509 - val_accuracy: 0.9330\n",
            "Epoch 72/100\n",
            "60000/60000 [==============================] - 9s 155us/step - loss: 0.0269 - accuracy: 0.9910 - val_loss: 0.4492 - val_accuracy: 0.9319\n",
            "Epoch 73/100\n",
            "60000/60000 [==============================] - 9s 153us/step - loss: 0.0254 - accuracy: 0.9912 - val_loss: 0.4257 - val_accuracy: 0.9315\n",
            "Epoch 74/100\n",
            "60000/60000 [==============================] - 9s 154us/step - loss: 0.0252 - accuracy: 0.9912 - val_loss: 0.3535 - val_accuracy: 0.9331\n",
            "Epoch 75/100\n",
            "60000/60000 [==============================] - 9s 153us/step - loss: 0.0250 - accuracy: 0.9916 - val_loss: 0.3842 - val_accuracy: 0.9335\n",
            "Epoch 76/100\n",
            "60000/60000 [==============================] - 9s 153us/step - loss: 0.0256 - accuracy: 0.9909 - val_loss: 0.3761 - val_accuracy: 0.9318\n",
            "Epoch 77/100\n",
            "60000/60000 [==============================] - 9s 155us/step - loss: 0.0242 - accuracy: 0.9919 - val_loss: 0.3528 - val_accuracy: 0.9332\n",
            "Epoch 78/100\n",
            "60000/60000 [==============================] - 9s 154us/step - loss: 0.0242 - accuracy: 0.9919 - val_loss: 0.5767 - val_accuracy: 0.9316\n",
            "Epoch 79/100\n",
            "60000/60000 [==============================] - 9s 153us/step - loss: 0.0226 - accuracy: 0.9923 - val_loss: 0.4797 - val_accuracy: 0.9334\n",
            "Epoch 80/100\n",
            "60000/60000 [==============================] - 9s 154us/step - loss: 0.0247 - accuracy: 0.9916 - val_loss: 0.4438 - val_accuracy: 0.9331\n",
            "Epoch 81/100\n",
            "60000/60000 [==============================] - 9s 154us/step - loss: 0.0260 - accuracy: 0.9911 - val_loss: 0.3811 - val_accuracy: 0.9347\n",
            "Epoch 82/100\n",
            "60000/60000 [==============================] - 9s 153us/step - loss: 0.0229 - accuracy: 0.9922 - val_loss: 0.3543 - val_accuracy: 0.9335\n",
            "Epoch 83/100\n",
            "60000/60000 [==============================] - 9s 153us/step - loss: 0.0237 - accuracy: 0.9919 - val_loss: 0.3078 - val_accuracy: 0.9326\n",
            "Epoch 84/100\n",
            "60000/60000 [==============================] - 9s 154us/step - loss: 0.0240 - accuracy: 0.9918 - val_loss: 0.3052 - val_accuracy: 0.9271\n",
            "Epoch 85/100\n",
            "60000/60000 [==============================] - 9s 156us/step - loss: 0.0211 - accuracy: 0.9924 - val_loss: 0.3586 - val_accuracy: 0.9323\n",
            "Epoch 86/100\n",
            "60000/60000 [==============================] - 9s 155us/step - loss: 0.0247 - accuracy: 0.9914 - val_loss: 0.4337 - val_accuracy: 0.9324\n",
            "Epoch 87/100\n",
            "60000/60000 [==============================] - 9s 156us/step - loss: 0.0238 - accuracy: 0.9919 - val_loss: 0.4574 - val_accuracy: 0.9337\n",
            "Epoch 88/100\n",
            "60000/60000 [==============================] - 9s 156us/step - loss: 0.0253 - accuracy: 0.9914 - val_loss: 0.3276 - val_accuracy: 0.9315\n",
            "Epoch 89/100\n",
            "60000/60000 [==============================] - 9s 153us/step - loss: 0.0240 - accuracy: 0.9918 - val_loss: 0.4635 - val_accuracy: 0.9331\n",
            "Epoch 90/100\n",
            "60000/60000 [==============================] - 9s 158us/step - loss: 0.0220 - accuracy: 0.9923 - val_loss: 0.3510 - val_accuracy: 0.9303\n",
            "Epoch 91/100\n",
            "60000/60000 [==============================] - 9s 154us/step - loss: 0.0229 - accuracy: 0.9922 - val_loss: 0.4776 - val_accuracy: 0.9330\n",
            "Epoch 92/100\n",
            "60000/60000 [==============================] - 9s 157us/step - loss: 0.0232 - accuracy: 0.9922 - val_loss: 0.4312 - val_accuracy: 0.9317\n",
            "Epoch 93/100\n",
            "60000/60000 [==============================] - 9s 157us/step - loss: 0.0223 - accuracy: 0.9924 - val_loss: 0.4141 - val_accuracy: 0.9337\n",
            "Epoch 94/100\n",
            "60000/60000 [==============================] - 10s 159us/step - loss: 0.0211 - accuracy: 0.9922 - val_loss: 0.6189 - val_accuracy: 0.9320\n",
            "Epoch 95/100\n",
            "60000/60000 [==============================] - 9s 154us/step - loss: 0.0228 - accuracy: 0.9926 - val_loss: 0.3704 - val_accuracy: 0.9272\n",
            "Epoch 96/100\n",
            "60000/60000 [==============================] - 9s 155us/step - loss: 0.0221 - accuracy: 0.9926 - val_loss: 0.5445 - val_accuracy: 0.9333\n",
            "Epoch 97/100\n",
            "60000/60000 [==============================] - 9s 156us/step - loss: 0.0227 - accuracy: 0.9922 - val_loss: 0.3134 - val_accuracy: 0.9289\n",
            "Epoch 98/100\n",
            "60000/60000 [==============================] - 9s 155us/step - loss: 0.0218 - accuracy: 0.9923 - val_loss: 0.5029 - val_accuracy: 0.9339\n",
            "Epoch 99/100\n",
            "60000/60000 [==============================] - 9s 156us/step - loss: 0.0222 - accuracy: 0.9924 - val_loss: 0.3647 - val_accuracy: 0.9333\n",
            "Epoch 100/100\n",
            "60000/60000 [==============================] - 9s 154us/step - loss: 0.0224 - accuracy: 0.9920 - val_loss: 0.4250 - val_accuracy: 0.9343\n",
            "The test loss =  0.4249740076656686\n",
            "The test accuracy =  0.9343000054359436\n"
          ],
          "name": "stdout"
        }
      ]
    },
    {
      "cell_type": "code",
      "metadata": {
        "id": "plr7nd9UL26S",
        "colab_type": "code",
        "colab": {
          "base_uri": "https://localhost:8080/",
          "height": 224
        },
        "outputId": "ac3da1b7-26e1-4446-ee1d-776a18e763ce"
      },
      "source": [
        "!apt-get install -y -qq software-properties-common python-software-properties module-init-tools\n",
        "!add-apt-repository -y ppa:alessandro-strada/ppa 2>&1 > /dev/null\n",
        "!apt-get update -qq 2>&1 > /dev/null\n",
        "!apt-get -y install -qq google-drive-ocamlfuse fuse\n",
        "from google.colab import auth\n",
        "auth.authenticate_user()\n",
        "from oauth2client.client import GoogleCredentials\n",
        "creds = GoogleCredentials.get_application_default()\n",
        "import getpass\n",
        "!google-drive-ocamlfuse -headless -id={creds.client_id} -secret={creds.client_secret} < /dev/null 2>&1 | grep URL\n",
        "vcode = getpass.getpass()\n",
        "!echo {vcode} | google-drive-ocamlfuse -headless -id={creds.client_id} -secret={creds.client_secret}"
      ],
      "execution_count": null,
      "outputs": [
        {
          "output_type": "stream",
          "text": [
            "E: Package 'python-software-properties' has no installation candidate\n",
            "Selecting previously unselected package google-drive-ocamlfuse.\n",
            "(Reading database ... 144487 files and directories currently installed.)\n",
            "Preparing to unpack .../google-drive-ocamlfuse_0.7.22-0ubuntu3~ubuntu18.04.1_amd64.deb ...\n",
            "Unpacking google-drive-ocamlfuse (0.7.22-0ubuntu3~ubuntu18.04.1) ...\n",
            "Setting up google-drive-ocamlfuse (0.7.22-0ubuntu3~ubuntu18.04.1) ...\n",
            "Processing triggers for man-db (2.8.3-2ubuntu0.1) ...\n",
            "Please, open the following URL in a web browser: https://accounts.google.com/o/oauth2/auth?client_id=32555940559.apps.googleusercontent.com&redirect_uri=urn%3Aietf%3Awg%3Aoauth%3A2.0%3Aoob&scope=https%3A%2F%2Fwww.googleapis.com%2Fauth%2Fdrive&response_type=code&access_type=offline&approval_prompt=force\n",
            "··········\n",
            "Please, open the following URL in a web browser: https://accounts.google.com/o/oauth2/auth?client_id=32555940559.apps.googleusercontent.com&redirect_uri=urn%3Aietf%3Awg%3Aoauth%3A2.0%3Aoob&scope=https%3A%2F%2Fwww.googleapis.com%2Fauth%2Fdrive&response_type=code&access_type=offline&approval_prompt=force\n",
            "Please enter the verification code: Access token retrieved correctly.\n"
          ],
          "name": "stdout"
        }
      ]
    },
    {
      "cell_type": "code",
      "metadata": {
        "id": "0IZSEuIlMpSV",
        "colab_type": "code",
        "colab": {
          "base_uri": "https://localhost:8080/",
          "height": 54
        },
        "outputId": "c0126597-b8a7-476f-bd5c-2bb782cb25e3"
      },
      "source": [
        "from google.colab import drive\n",
        "drive.mount('/content/drive')\n"
      ],
      "execution_count": null,
      "outputs": [
        {
          "output_type": "stream",
          "text": [
            "Drive already mounted at /content/drive; to attempt to forcibly remount, call drive.mount(\"/content/drive\", force_remount=True).\n"
          ],
          "name": "stdout"
        }
      ]
    },
    {
      "cell_type": "code",
      "metadata": {
        "id": "wpZmbgAwOJ49",
        "colab_type": "code",
        "colab": {}
      },
      "source": [
        "import os"
      ],
      "execution_count": null,
      "outputs": []
    },
    {
      "cell_type": "code",
      "metadata": {
        "id": "9spAMjHVORCy",
        "colab_type": "code",
        "colab": {}
      },
      "source": [
        "os.chdir('/content/drive/My Drive/projects')"
      ],
      "execution_count": null,
      "outputs": []
    },
    {
      "cell_type": "code",
      "metadata": {
        "id": "47mEmf3FPIzw",
        "colab_type": "code",
        "colab": {}
      },
      "source": [
        "model.save('clothing_classification_model.h5')"
      ],
      "execution_count": null,
      "outputs": []
    },
    {
      "cell_type": "code",
      "metadata": {
        "id": "qx-N0IPaW9Ax",
        "colab_type": "code",
        "colab": {
          "base_uri": "https://localhost:8080/",
          "height": 105
        },
        "outputId": "e573e682-2a03-4349-ccdd-3a8d4ea159e3"
      },
      "source": [
        "from keras.models import load_model\n",
        "from keras.preprocessing.image import load_img\n",
        "from keras.preprocessing.image import img_to_array\n",
        "\n",
        "\n",
        "def load_image(filename):\n",
        "\timg = load_img(filename, grayscale=True, target_size=(28, 28))\n",
        "\timg = img_to_array(img)\n",
        "\timg = img.reshape(1, 28, 28, 1)\n",
        "\timg = img.astype('float32')\n",
        "\timg = img / 255.0\n",
        "\treturn img\n",
        "\n",
        "\n",
        "img = load_image('shoes.jpg')\n",
        "\n",
        "model = load_model('clothing_classification_model.h5')\n",
        "\n",
        "class_prediction = model.predict_classes(img)\n",
        "print(class_prediction[0])\n",
        "\n",
        "\n",
        "if class_prediction[0] == 0:\n",
        "  product = \"T-shirt/top\"\n",
        "elif class_prediction[0] == 1:\n",
        "  product = \"Trouser\"\n",
        "elif class_prediction[0] == 2:\n",
        "  product = \"Pullover\"\n",
        "elif class_prediction[0] == 3:\n",
        "  product = \"Dress\"\n",
        "elif class_prediction[0] == 4:\n",
        "  product = \"Coat\"\n",
        "elif class_prediction[0] == 5:\n",
        "  product = \"Sandal\"\n",
        "elif class_prediction[0] == 6:\n",
        "  product = \"Shirt\"\n",
        "elif class_prediction[0] == 7:\n",
        "  product = \"Sneaker\"\n",
        "elif class_prediction[0] == 8:\n",
        "  product = \"Bag\"\n",
        "else:\n",
        "  product = \"Ankle boot\"\n",
        "\n",
        "print(product)"
      ],
      "execution_count": null,
      "outputs": [
        {
          "output_type": "stream",
          "text": [
            "/usr/local/lib/python3.6/dist-packages/keras_preprocessing/image/utils.py:107: UserWarning: grayscale is deprecated. Please use color_mode = \"grayscale\"\n",
            "  warnings.warn('grayscale is deprecated. Please use '\n"
          ],
          "name": "stderr"
        },
        {
          "output_type": "stream",
          "text": [
            "2\n",
            "Pullover\n"
          ],
          "name": "stdout"
        }
      ]
    }
  ]
}