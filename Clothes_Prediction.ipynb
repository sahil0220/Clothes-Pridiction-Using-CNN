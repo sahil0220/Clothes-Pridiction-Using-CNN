{
  "nbformat": 4,
  "nbformat_minor": 0,
  "metadata": {
    "colab": {
      "name": "Clothes_Prediction.ipynb",
      "provenance": [],
      "include_colab_link": true
    },
    "kernelspec": {
      "name": "python3",
      "display_name": "Python 3"
    },
    "accelerator": "GPU"
  },
  "cells": [
    {
      "cell_type": "markdown",
      "metadata": {
        "id": "view-in-github",
        "colab_type": "text"
      },
      "source": [
        "<a href=\"https://colab.research.google.com/github/sahil0220/Clothes-Pridiction-Using-CNN/blob/master/Clothes_Prediction.ipynb\" target=\"_parent\"><img src=\"https://colab.research.google.com/assets/colab-badge.svg\" alt=\"Open In Colab\"/></a>"
      ]
    },
    {
      "cell_type": "code",
      "metadata": {
        "id": "3FOpunI6hEz5",
        "colab_type": "code",
        "colab": {}
      },
      "source": [
        "import numpy as np\n",
        "from keras.datasets import fashion_mnist"
      ],
      "execution_count": 2,
      "outputs": []
    },
    {
      "cell_type": "code",
      "metadata": {
        "id": "6wFFLzPMi1AE",
        "colab_type": "code",
        "colab": {
          "base_uri": "https://localhost:8080/",
          "height": 153
        },
        "outputId": "518c37fc-230c-4ba2-9a83-26f85ed60139"
      },
      "source": [
        "(x_train, y_train), (x_test, y_test)=fashion_mnist.load_data()"
      ],
      "execution_count": 3,
      "outputs": [
        {
          "output_type": "stream",
          "text": [
            "Downloading data from https://storage.googleapis.com/tensorflow/tf-keras-datasets/train-labels-idx1-ubyte.gz\n",
            "32768/29515 [=================================] - 0s 0us/step\n",
            "Downloading data from https://storage.googleapis.com/tensorflow/tf-keras-datasets/train-images-idx3-ubyte.gz\n",
            "26427392/26421880 [==============================] - 0s 0us/step\n",
            "Downloading data from https://storage.googleapis.com/tensorflow/tf-keras-datasets/t10k-labels-idx1-ubyte.gz\n",
            "8192/5148 [===============================================] - 0s 0us/step\n",
            "Downloading data from https://storage.googleapis.com/tensorflow/tf-keras-datasets/t10k-images-idx3-ubyte.gz\n",
            "4423680/4422102 [==============================] - 0s 0us/step\n"
          ],
          "name": "stdout"
        }
      ]
    },
    {
      "cell_type": "code",
      "metadata": {
        "id": "2UJXDgBvj3OU",
        "colab_type": "code",
        "colab": {
          "base_uri": "https://localhost:8080/",
          "height": 136
        },
        "outputId": "379cfb66-ef97-47f7-ed25-0cfd5f2cb6cb"
      },
      "source": [
        "print(\"Number of samples in training dataset: \"+ str(len(x_train)))\n",
        "print(\"Number of labels in training dataset: \"+ str(len(y_train)))\n",
        "print(\"Dimensions of a single image in x_train: \"+ str(len(x_train[0].shape)))\n",
        "print(\"--------------------------------------------------------------\")\n",
        "print(\"Number of samples in test dataset: \"+ str(len(x_test)))\n",
        "print(\"Number of labels in test dataset: \"+ str(len(y_test)))\n",
        "print(\"Dimensions of a single image in x_test: \"+ str(len(x_test[0].shape)))"
      ],
      "execution_count": 4,
      "outputs": [
        {
          "output_type": "stream",
          "text": [
            "Number of samples in training dataset: 60000\n",
            "Number of labels in training dataset: 60000\n",
            "Dimensions of a single image in x_train: 2\n",
            "--------------------------------------------------------------\n",
            "Number of samples in test dataset: 10000\n",
            "Number of labels in test dataset: 10000\n",
            "Dimensions of a single image in x_test: 2\n"
          ],
          "name": "stdout"
        }
      ]
    },
    {
      "cell_type": "code",
      "metadata": {
        "id": "NuA3GcNVnJF-",
        "colab_type": "code",
        "colab": {
          "base_uri": "https://localhost:8080/",
          "height": 284
        },
        "outputId": "2b66a050-c296-4eab-902d-f73c7fc1ac70"
      },
      "source": [
        "import matplotlib.pyplot as plt\n",
        "\n",
        "plt.subplot(231)\n",
        "random_num= np.random.randint(0,len(x_train))\n",
        "plt.imshow(x_train[random_num], cmap=plt.get_cmap(\"gray\"))\n",
        "\n",
        "plt.subplot(232)\n",
        "random_num= np.random.randint(0,len(x_train))\n",
        "plt.imshow(x_train[random_num], cmap=plt.get_cmap(\"gray\"))\n",
        "\n",
        "plt.subplot(233)\n",
        "random_num= np.random.randint(0,len(x_train))\n",
        "plt.imshow(x_train[random_num], cmap=plt.get_cmap(\"gray\"))\n",
        "\n",
        "plt.subplot(234)\n",
        "random_num= np.random.randint(0,len(x_train))\n",
        "plt.imshow(x_train[random_num], cmap=plt.get_cmap(\"gray\"))\n",
        "\n",
        "plt.subplot(235)\n",
        "random_num= np.random.randint(0,len(x_train))\n",
        "plt.imshow(x_train[random_num], cmap=plt.get_cmap(\"gray\"))\n",
        "\n",
        "plt.subplot(236)\n",
        "random_num= np.random.randint(0,len(x_train))\n",
        "plt.imshow(x_train[random_num], cmap=plt.get_cmap(\"gray\"))"
      ],
      "execution_count": 5,
      "outputs": [
        {
          "output_type": "execute_result",
          "data": {
            "text/plain": [
              "<matplotlib.image.AxesImage at 0x7f1efd6dbb70>"
            ]
          },
          "metadata": {
            "tags": []
          },
          "execution_count": 5
        },
        {
          "output_type": "display_data",
          "data": {
            "image/png": "[encoded data removed]",
            "text/plain": [
              "<Figure size 432x288 with 6 Axes>"
            ]
          },
          "metadata": {
            "tags": [],
            "needs_background": "light"
          }
        }
      ]
    },
    {
      "cell_type": "code",
      "metadata": {
        "id": "Sn4yb_GZuf5o",
        "colab_type": "code",
        "colab": {
          "base_uri": "https://localhost:8080/",
          "height": 544
        },
        "outputId": "a054f3de-5014-41bd-82b3-a2c0a088f041"
      },
      "source": [
        "import keras\n",
        "from keras.utils import np_utils \n",
        "from keras.models import Sequential\n",
        "from keras.layers import Dense, Dropout, Flatten\n",
        "from keras.layers import Conv2D, MaxPooling2D, BatchNormalization\n",
        "from keras import backend as K\n",
        "\n",
        "batch_size=128\n",
        "epochs= 100\n",
        "\n",
        "img_rows=x_train[0].shape[0]\n",
        "img_cols=x_train[1].shape[0]\n",
        "\n",
        "x_train=x_train.reshape(x_train.shape[0], img_rows, img_cols, 1)\n",
        "x_test=x_test.reshape(x_test.shape[0], img_rows, img_cols, 1)\n",
        "\n",
        "input_shape=(img_rows, img_cols, 1)\n",
        "\n",
        "x_train=x_train.astype('float32')\n",
        "x_test=x_test.astype('float32')\n",
        "\n",
        "x_train/=255 \n",
        "x_test/=255\n",
        "\n",
        "y_train= np_utils.to_categorical(y_train)\n",
        "y_test= np_utils.to_categorical(y_test)\n",
        "\n",
        "num_classes=y_test.shape[1]\n",
        "num_pixels=x_train.shape[1]*x_train.shape[2]\n",
        "\n",
        "\n",
        "model=Sequential()\n",
        "\n",
        "model.add(Conv2D(32,kernel_size=(3,3), activation='relu', input_shape=input_shape))\n",
        "model.add(BatchNormalization())\n",
        "\n",
        "model.add(Conv2D(64,(3,3), activation='relu'))\n",
        "model.add(BatchNormalization())\n",
        "\n",
        "model.add(MaxPooling2D(pool_size=(2,2)))\n",
        "model.add(Dropout(0.25))\n",
        "\n",
        "model.add(Flatten())\n",
        "model.add(Dense(128,activation='relu'))\n",
        "model.add(BatchNormalization())\n",
        "\n",
        "model.add(Dropout(0.5))\n",
        "model.add(Dense(num_classes,activation='softmax'))\n",
        "\n",
        "model.compile(loss='categorical_crossentropy',\n",
        "              optimizer=keras.optimizers.Adadelta(),\n",
        "              metrics=['accuracy'])\n",
        "\n",
        "print(model.summary())\n",
        "\n"
      ],
      "execution_count": 6,
      "outputs": [
        {
          "output_type": "stream",
          "text": [
            "Model: \"sequential\"\n",
            "_________________________________________________________________\n",
            "Layer (type)                 Output Shape              Param #   \n",
            "=================================================================\n",
            "conv2d (Conv2D)              (None, 26, 26, 32)        320       \n",
            "_________________________________________________________________\n",
            "batch_normalization (BatchNo (None, 26, 26, 32)        128       \n",
            "_________________________________________________________________\n",
            "conv2d_1 (Conv2D)            (None, 24, 24, 64)        18496     \n",
            "_________________________________________________________________\n",
            "batch_normalization_1 (Batch (None, 24, 24, 64)        256       \n",
            "_________________________________________________________________\n",
            "max_pooling2d (MaxPooling2D) (None, 12, 12, 64)        0         \n",
            "_________________________________________________________________\n",
            "dropout (Dropout)            (None, 12, 12, 64)        0         \n",
            "_________________________________________________________________\n",
            "flatten (Flatten)            (None, 9216)              0         \n",
            "_________________________________________________________________\n",
            "dense (Dense)                (None, 128)               1179776   \n",
            "_________________________________________________________________\n",
            "batch_normalization_2 (Batch (None, 128)               512       \n",
            "_________________________________________________________________\n",
            "dropout_1 (Dropout)          (None, 128)               0         \n",
            "_________________________________________________________________\n",
            "dense_1 (Dense)              (None, 10)                1290      \n",
            "=================================================================\n",
            "Total params: 1,200,778\n",
            "Trainable params: 1,200,330\n",
            "Non-trainable params: 448\n",
            "_________________________________________________________________\n",
            "None\n"
          ],
          "name": "stdout"
        }
      ]
    },
    {
      "cell_type": "code",
      "metadata": {
        "id": "fE9lKqCjzz-k",
        "colab_type": "code",
        "colab": {
          "base_uri": "https://localhost:8080/",
          "height": 1000
        },
        "outputId": "fc4b874d-5d9e-41dd-a2a6-728f07ad1c74"
      },
      "source": [
        "model_fitting=model.fit(x_train,y_train,\n",
        "                        batch_size=batch_size,\n",
        "                        epochs=epochs,\n",
        "                        verbose=1,\n",
        "                        validation_data=(x_test,y_test))\n",
        "\n",
        "score=model.evaluate(x_test, y_test, verbose=0)\n",
        "print(\"The test loss = \", score[0])\n",
        "print(\"The test accuracy = \", score[1])"
      ],
      "execution_count": 7,
      "outputs": [
        {
          "output_type": "stream",
          "text": [
            "Epoch 1/100\n",
            "469/469 [==============================] - 5s 10ms/step - loss: 2.4533 - accuracy: 0.2859 - val_loss: 1.5801 - val_accuracy: 0.5347\n",
            "Epoch 2/100\n",
            "469/469 [==============================] - 4s 9ms/step - loss: 1.5486 - accuracy: 0.5172 - val_loss: 0.9119 - val_accuracy: 0.6972\n",
            "Epoch 3/100\n",
            "469/469 [==============================] - 4s 9ms/step - loss: 1.2494 - accuracy: 0.6066 - val_loss: 0.7908 - val_accuracy: 0.7326\n",
            "Epoch 4/100\n",
            "469/469 [==============================] - 4s 9ms/step - loss: 1.0981 - accuracy: 0.6519 - val_loss: 0.7181 - val_accuracy: 0.7533\n",
            "Epoch 5/100\n",
            "469/469 [==============================] - 4s 9ms/step - loss: 0.9994 - accuracy: 0.6794 - val_loss: 0.6694 - val_accuracy: 0.7669\n",
            "Epoch 6/100\n",
            "469/469 [==============================] - 4s 9ms/step - loss: 0.9302 - accuracy: 0.6989 - val_loss: 0.6347 - val_accuracy: 0.7776\n",
            "Epoch 7/100\n",
            "469/469 [==============================] - 4s 9ms/step - loss: 0.8863 - accuracy: 0.7141 - val_loss: 0.6037 - val_accuracy: 0.7880\n",
            "Epoch 8/100\n",
            "469/469 [==============================] - 4s 9ms/step - loss: 0.8353 - accuracy: 0.7272 - val_loss: 0.5825 - val_accuracy: 0.7962\n",
            "Epoch 9/100\n",
            "469/469 [==============================] - 4s 9ms/step - loss: 0.8034 - accuracy: 0.7368 - val_loss: 0.5639 - val_accuracy: 0.8021\n",
            "Epoch 10/100\n",
            "469/469 [==============================] - 4s 10ms/step - loss: 0.7704 - accuracy: 0.7452 - val_loss: 0.5489 - val_accuracy: 0.8071\n",
            "Epoch 11/100\n",
            "469/469 [==============================] - 4s 10ms/step - loss: 0.7525 - accuracy: 0.7529 - val_loss: 0.5366 - val_accuracy: 0.8114\n",
            "Epoch 12/100\n",
            "469/469 [==============================] - 4s 9ms/step - loss: 0.7335 - accuracy: 0.7575 - val_loss: 0.5259 - val_accuracy: 0.8151\n",
            "Epoch 13/100\n",
            "469/469 [==============================] - 4s 9ms/step - loss: 0.7175 - accuracy: 0.7640 - val_loss: 0.5141 - val_accuracy: 0.8197\n",
            "Epoch 14/100\n",
            "469/469 [==============================] - 4s 9ms/step - loss: 0.6954 - accuracy: 0.7690 - val_loss: 0.5070 - val_accuracy: 0.8224\n",
            "Epoch 15/100\n",
            "469/469 [==============================] - 4s 9ms/step - loss: 0.6833 - accuracy: 0.7734 - val_loss: 0.4996 - val_accuracy: 0.8244\n",
            "Epoch 16/100\n",
            "469/469 [==============================] - 4s 9ms/step - loss: 0.6753 - accuracy: 0.7763 - val_loss: 0.4910 - val_accuracy: 0.8288\n",
            "Epoch 17/100\n",
            "469/469 [==============================] - 4s 9ms/step - loss: 0.6601 - accuracy: 0.7799 - val_loss: 0.4858 - val_accuracy: 0.8315\n",
            "Epoch 18/100\n",
            "469/469 [==============================] - 4s 9ms/step - loss: 0.6496 - accuracy: 0.7840 - val_loss: 0.4792 - val_accuracy: 0.8348\n",
            "Epoch 19/100\n",
            "469/469 [==============================] - 4s 9ms/step - loss: 0.6369 - accuracy: 0.7893 - val_loss: 0.4734 - val_accuracy: 0.8385\n",
            "Epoch 20/100\n",
            "469/469 [==============================] - 4s 9ms/step - loss: 0.6289 - accuracy: 0.7894 - val_loss: 0.4676 - val_accuracy: 0.8402\n",
            "Epoch 21/100\n",
            "469/469 [==============================] - 4s 9ms/step - loss: 0.6202 - accuracy: 0.7918 - val_loss: 0.4628 - val_accuracy: 0.8412\n",
            "Epoch 22/100\n",
            "469/469 [==============================] - 4s 9ms/step - loss: 0.6103 - accuracy: 0.7961 - val_loss: 0.4588 - val_accuracy: 0.8429\n",
            "Epoch 23/100\n",
            "469/469 [==============================] - 4s 9ms/step - loss: 0.6062 - accuracy: 0.7972 - val_loss: 0.4555 - val_accuracy: 0.8462\n",
            "Epoch 24/100\n",
            "469/469 [==============================] - 4s 9ms/step - loss: 0.5935 - accuracy: 0.8010 - val_loss: 0.4504 - val_accuracy: 0.8476\n",
            "Epoch 25/100\n",
            "469/469 [==============================] - 4s 9ms/step - loss: 0.5913 - accuracy: 0.8024 - val_loss: 0.4465 - val_accuracy: 0.8488\n",
            "Epoch 26/100\n",
            "469/469 [==============================] - 4s 9ms/step - loss: 0.5798 - accuracy: 0.8052 - val_loss: 0.4430 - val_accuracy: 0.8500\n",
            "Epoch 27/100\n",
            "469/469 [==============================] - 4s 9ms/step - loss: 0.5830 - accuracy: 0.8044 - val_loss: 0.4406 - val_accuracy: 0.8520\n",
            "Epoch 28/100\n",
            "469/469 [==============================] - 4s 9ms/step - loss: 0.5734 - accuracy: 0.8067 - val_loss: 0.4370 - val_accuracy: 0.8517\n",
            "Epoch 29/100\n",
            "469/469 [==============================] - 4s 9ms/step - loss: 0.5694 - accuracy: 0.8098 - val_loss: 0.4339 - val_accuracy: 0.8536\n",
            "Epoch 30/100\n",
            "469/469 [==============================] - 4s 9ms/step - loss: 0.5590 - accuracy: 0.8132 - val_loss: 0.4308 - val_accuracy: 0.8547\n",
            "Epoch 31/100\n",
            "469/469 [==============================] - 4s 9ms/step - loss: 0.5595 - accuracy: 0.8125 - val_loss: 0.4285 - val_accuracy: 0.8558\n",
            "Epoch 32/100\n",
            "469/469 [==============================] - 4s 9ms/step - loss: 0.5499 - accuracy: 0.8181 - val_loss: 0.4258 - val_accuracy: 0.8572\n",
            "Epoch 33/100\n",
            "469/469 [==============================] - 4s 9ms/step - loss: 0.5460 - accuracy: 0.8172 - val_loss: 0.4232 - val_accuracy: 0.8581\n",
            "Epoch 34/100\n",
            "469/469 [==============================] - 4s 9ms/step - loss: 0.5455 - accuracy: 0.8175 - val_loss: 0.4199 - val_accuracy: 0.8590\n",
            "Epoch 35/100\n",
            "469/469 [==============================] - 4s 9ms/step - loss: 0.5404 - accuracy: 0.8184 - val_loss: 0.4182 - val_accuracy: 0.8595\n",
            "Epoch 36/100\n",
            "469/469 [==============================] - 4s 9ms/step - loss: 0.5314 - accuracy: 0.8223 - val_loss: 0.4149 - val_accuracy: 0.8603\n",
            "Epoch 37/100\n",
            "469/469 [==============================] - 4s 9ms/step - loss: 0.5290 - accuracy: 0.8209 - val_loss: 0.4127 - val_accuracy: 0.8612\n",
            "Epoch 38/100\n",
            "469/469 [==============================] - 4s 9ms/step - loss: 0.5264 - accuracy: 0.8221 - val_loss: 0.4111 - val_accuracy: 0.8611\n",
            "Epoch 39/100\n",
            "469/469 [==============================] - 4s 9ms/step - loss: 0.5240 - accuracy: 0.8237 - val_loss: 0.4092 - val_accuracy: 0.8624\n",
            "Epoch 40/100\n",
            "469/469 [==============================] - 4s 9ms/step - loss: 0.5223 - accuracy: 0.8234 - val_loss: 0.4075 - val_accuracy: 0.8622\n",
            "Epoch 41/100\n",
            "469/469 [==============================] - 4s 9ms/step - loss: 0.5177 - accuracy: 0.8265 - val_loss: 0.4055 - val_accuracy: 0.8630\n",
            "Epoch 42/100\n",
            "469/469 [==============================] - 4s 9ms/step - loss: 0.5109 - accuracy: 0.8275 - val_loss: 0.4036 - val_accuracy: 0.8638\n",
            "Epoch 43/100\n",
            "469/469 [==============================] - 5s 10ms/step - loss: 0.5095 - accuracy: 0.8280 - val_loss: 0.4013 - val_accuracy: 0.8640\n",
            "Epoch 44/100\n",
            "469/469 [==============================] - 4s 10ms/step - loss: 0.5097 - accuracy: 0.8281 - val_loss: 0.3994 - val_accuracy: 0.8649\n",
            "Epoch 45/100\n",
            "469/469 [==============================] - 5s 10ms/step - loss: 0.5053 - accuracy: 0.8295 - val_loss: 0.3976 - val_accuracy: 0.8650\n",
            "Epoch 46/100\n",
            "469/469 [==============================] - 4s 9ms/step - loss: 0.5065 - accuracy: 0.8287 - val_loss: 0.3960 - val_accuracy: 0.8659\n",
            "Epoch 47/100\n",
            "469/469 [==============================] - 4s 10ms/step - loss: 0.4945 - accuracy: 0.8337 - val_loss: 0.3948 - val_accuracy: 0.8661\n",
            "Epoch 48/100\n",
            "469/469 [==============================] - 5s 10ms/step - loss: 0.4994 - accuracy: 0.8324 - val_loss: 0.3922 - val_accuracy: 0.8665\n",
            "Epoch 49/100\n",
            "469/469 [==============================] - 4s 10ms/step - loss: 0.4925 - accuracy: 0.8351 - val_loss: 0.3908 - val_accuracy: 0.8671\n",
            "Epoch 50/100\n",
            "469/469 [==============================] - 4s 10ms/step - loss: 0.4908 - accuracy: 0.8337 - val_loss: 0.3896 - val_accuracy: 0.8672\n",
            "Epoch 51/100\n",
            "469/469 [==============================] - 5s 10ms/step - loss: 0.4824 - accuracy: 0.8374 - val_loss: 0.3878 - val_accuracy: 0.8683\n",
            "Epoch 52/100\n",
            "469/469 [==============================] - 5s 10ms/step - loss: 0.4861 - accuracy: 0.8353 - val_loss: 0.3866 - val_accuracy: 0.8675\n",
            "Epoch 53/100\n",
            "469/469 [==============================] - 5s 10ms/step - loss: 0.4838 - accuracy: 0.8371 - val_loss: 0.3848 - val_accuracy: 0.8684\n",
            "Epoch 54/100\n",
            "469/469 [==============================] - 4s 10ms/step - loss: 0.4772 - accuracy: 0.8403 - val_loss: 0.3833 - val_accuracy: 0.8689\n",
            "Epoch 55/100\n",
            "469/469 [==============================] - 5s 10ms/step - loss: 0.4764 - accuracy: 0.8384 - val_loss: 0.3822 - val_accuracy: 0.8683\n",
            "Epoch 56/100\n",
            "469/469 [==============================] - 5s 10ms/step - loss: 0.4737 - accuracy: 0.8402 - val_loss: 0.3804 - val_accuracy: 0.8700\n",
            "Epoch 57/100\n",
            "469/469 [==============================] - 5s 10ms/step - loss: 0.4739 - accuracy: 0.8407 - val_loss: 0.3792 - val_accuracy: 0.8697\n",
            "Epoch 58/100\n",
            "469/469 [==============================] - 5s 10ms/step - loss: 0.4756 - accuracy: 0.8399 - val_loss: 0.3781 - val_accuracy: 0.8695\n",
            "Epoch 59/100\n",
            "469/469 [==============================] - 5s 10ms/step - loss: 0.4702 - accuracy: 0.8415 - val_loss: 0.3772 - val_accuracy: 0.8703\n",
            "Epoch 60/100\n",
            "469/469 [==============================] - 5s 10ms/step - loss: 0.4677 - accuracy: 0.8422 - val_loss: 0.3762 - val_accuracy: 0.8705\n",
            "Epoch 61/100\n",
            "469/469 [==============================] - 4s 9ms/step - loss: 0.4681 - accuracy: 0.8402 - val_loss: 0.3748 - val_accuracy: 0.8714\n",
            "Epoch 62/100\n",
            "469/469 [==============================] - 4s 10ms/step - loss: 0.4648 - accuracy: 0.8438 - val_loss: 0.3733 - val_accuracy: 0.8720\n",
            "Epoch 63/100\n",
            "469/469 [==============================] - 4s 9ms/step - loss: 0.4622 - accuracy: 0.8446 - val_loss: 0.3721 - val_accuracy: 0.8721\n",
            "Epoch 64/100\n",
            "469/469 [==============================] - 4s 10ms/step - loss: 0.4574 - accuracy: 0.8443 - val_loss: 0.3718 - val_accuracy: 0.8727\n",
            "Epoch 65/100\n",
            "469/469 [==============================] - 4s 10ms/step - loss: 0.4573 - accuracy: 0.8462 - val_loss: 0.3703 - val_accuracy: 0.8731\n",
            "Epoch 66/100\n",
            "469/469 [==============================] - 4s 9ms/step - loss: 0.4567 - accuracy: 0.8460 - val_loss: 0.3692 - val_accuracy: 0.8735\n",
            "Epoch 67/100\n",
            "469/469 [==============================] - 5s 10ms/step - loss: 0.4515 - accuracy: 0.8471 - val_loss: 0.3682 - val_accuracy: 0.8738\n",
            "Epoch 68/100\n",
            "469/469 [==============================] - 4s 9ms/step - loss: 0.4505 - accuracy: 0.8480 - val_loss: 0.3670 - val_accuracy: 0.8738\n",
            "Epoch 69/100\n",
            "469/469 [==============================] - 5s 10ms/step - loss: 0.4508 - accuracy: 0.8482 - val_loss: 0.3656 - val_accuracy: 0.8753\n",
            "Epoch 70/100\n",
            "469/469 [==============================] - 4s 9ms/step - loss: 0.4451 - accuracy: 0.8479 - val_loss: 0.3645 - val_accuracy: 0.8752\n",
            "Epoch 71/100\n",
            "469/469 [==============================] - 4s 9ms/step - loss: 0.4455 - accuracy: 0.8490 - val_loss: 0.3635 - val_accuracy: 0.8755\n",
            "Epoch 72/100\n",
            "469/469 [==============================] - 4s 9ms/step - loss: 0.4433 - accuracy: 0.8502 - val_loss: 0.3631 - val_accuracy: 0.8762\n",
            "Epoch 73/100\n",
            "469/469 [==============================] - 4s 10ms/step - loss: 0.4414 - accuracy: 0.8497 - val_loss: 0.3620 - val_accuracy: 0.8755\n",
            "Epoch 74/100\n",
            "469/469 [==============================] - 4s 10ms/step - loss: 0.4378 - accuracy: 0.8515 - val_loss: 0.3607 - val_accuracy: 0.8766\n",
            "Epoch 75/100\n",
            "469/469 [==============================] - 4s 9ms/step - loss: 0.4408 - accuracy: 0.8521 - val_loss: 0.3590 - val_accuracy: 0.8773\n",
            "Epoch 76/100\n",
            "469/469 [==============================] - 4s 9ms/step - loss: 0.4379 - accuracy: 0.8502 - val_loss: 0.3584 - val_accuracy: 0.8781\n",
            "Epoch 77/100\n",
            "469/469 [==============================] - 4s 9ms/step - loss: 0.4359 - accuracy: 0.8537 - val_loss: 0.3576 - val_accuracy: 0.8777\n",
            "Epoch 78/100\n",
            "469/469 [==============================] - 4s 9ms/step - loss: 0.4338 - accuracy: 0.8532 - val_loss: 0.3570 - val_accuracy: 0.8785\n",
            "Epoch 79/100\n",
            "469/469 [==============================] - 5s 10ms/step - loss: 0.4326 - accuracy: 0.8531 - val_loss: 0.3556 - val_accuracy: 0.8787\n",
            "Epoch 80/100\n",
            "469/469 [==============================] - 4s 9ms/step - loss: 0.4292 - accuracy: 0.8542 - val_loss: 0.3550 - val_accuracy: 0.8790\n",
            "Epoch 81/100\n",
            "469/469 [==============================] - 4s 9ms/step - loss: 0.4337 - accuracy: 0.8530 - val_loss: 0.3539 - val_accuracy: 0.8793\n",
            "Epoch 82/100\n",
            "469/469 [==============================] - 4s 9ms/step - loss: 0.4320 - accuracy: 0.8540 - val_loss: 0.3532 - val_accuracy: 0.8792\n",
            "Epoch 83/100\n",
            "469/469 [==============================] - 4s 9ms/step - loss: 0.4298 - accuracy: 0.8551 - val_loss: 0.3523 - val_accuracy: 0.8802\n",
            "Epoch 84/100\n",
            "469/469 [==============================] - 4s 10ms/step - loss: 0.4236 - accuracy: 0.8568 - val_loss: 0.3512 - val_accuracy: 0.8804\n",
            "Epoch 85/100\n",
            "469/469 [==============================] - 4s 10ms/step - loss: 0.4225 - accuracy: 0.8549 - val_loss: 0.3505 - val_accuracy: 0.8798\n",
            "Epoch 86/100\n",
            "469/469 [==============================] - 4s 9ms/step - loss: 0.4217 - accuracy: 0.8583 - val_loss: 0.3495 - val_accuracy: 0.8799\n",
            "Epoch 87/100\n",
            "469/469 [==============================] - 4s 9ms/step - loss: 0.4207 - accuracy: 0.8575 - val_loss: 0.3481 - val_accuracy: 0.8807\n",
            "Epoch 88/100\n",
            "469/469 [==============================] - 4s 9ms/step - loss: 0.4162 - accuracy: 0.8587 - val_loss: 0.3477 - val_accuracy: 0.8802\n",
            "Epoch 89/100\n",
            "469/469 [==============================] - 4s 9ms/step - loss: 0.4209 - accuracy: 0.8566 - val_loss: 0.3467 - val_accuracy: 0.8808\n",
            "Epoch 90/100\n",
            "469/469 [==============================] - 4s 9ms/step - loss: 0.4152 - accuracy: 0.8579 - val_loss: 0.3462 - val_accuracy: 0.8812\n",
            "Epoch 91/100\n",
            "469/469 [==============================] - 4s 9ms/step - loss: 0.4155 - accuracy: 0.8576 - val_loss: 0.3454 - val_accuracy: 0.8812\n",
            "Epoch 92/100\n",
            "469/469 [==============================] - 4s 9ms/step - loss: 0.4153 - accuracy: 0.8598 - val_loss: 0.3443 - val_accuracy: 0.8817\n",
            "Epoch 93/100\n",
            "469/469 [==============================] - 4s 9ms/step - loss: 0.4143 - accuracy: 0.8580 - val_loss: 0.3439 - val_accuracy: 0.8817\n",
            "Epoch 94/100\n",
            "469/469 [==============================] - 4s 9ms/step - loss: 0.4118 - accuracy: 0.8608 - val_loss: 0.3433 - val_accuracy: 0.8825\n",
            "Epoch 95/100\n",
            "469/469 [==============================] - 4s 9ms/step - loss: 0.4140 - accuracy: 0.8581 - val_loss: 0.3424 - val_accuracy: 0.8811\n",
            "Epoch 96/100\n",
            "469/469 [==============================] - 4s 9ms/step - loss: 0.4117 - accuracy: 0.8593 - val_loss: 0.3414 - val_accuracy: 0.8817\n",
            "Epoch 97/100\n",
            "469/469 [==============================] - 4s 9ms/step - loss: 0.4107 - accuracy: 0.8612 - val_loss: 0.3406 - val_accuracy: 0.8820\n",
            "Epoch 98/100\n",
            "469/469 [==============================] - 4s 9ms/step - loss: 0.4067 - accuracy: 0.8619 - val_loss: 0.3399 - val_accuracy: 0.8823\n",
            "Epoch 99/100\n",
            "469/469 [==============================] - 4s 9ms/step - loss: 0.4053 - accuracy: 0.8612 - val_loss: 0.3390 - val_accuracy: 0.8829\n",
            "Epoch 100/100\n",
            "469/469 [==============================] - 5s 10ms/step - loss: 0.4046 - accuracy: 0.8625 - val_loss: 0.3385 - val_accuracy: 0.8825\n",
            "The test loss =  0.338517963886261\n",
            "The test accuracy =  0.8824999928474426\n"
          ],
          "name": "stdout"
        }
      ]
    },
    {
      "cell_type": "code",
      "metadata": {
        "id": "plr7nd9UL26S",
        "colab_type": "code",
        "colab": {
          "base_uri": "https://localhost:8080/",
          "height": 224
        },
        "outputId": "46eb9b9e-29df-4da8-8e8f-a2076d5c72c5"
      },
      "source": [
        "!apt-get install -y -qq software-properties-common python-software-properties module-init-tools\n",
        "!add-apt-repository -y ppa:alessandro-strada/ppa 2>&1 > /dev/null\n",
        "!apt-get update -qq 2>&1 > /dev/null\n",
        "!apt-get -y install -qq google-drive-ocamlfuse fuse\n",
        "from google.colab import auth\n",
        "auth.authenticate_user()\n",
        "from oauth2client.client import GoogleCredentials\n",
        "creds = GoogleCredentials.get_application_default()\n",
        "import getpass\n",
        "!google-drive-ocamlfuse -headless -id={creds.client_id} -secret={creds.client_secret} < /dev/null 2>&1 | grep URL\n",
        "vcode = getpass.getpass()\n",
        "!echo {vcode} | google-drive-ocamlfuse -headless -id={creds.client_id} -secret={creds.client_secret}"
      ],
      "execution_count": 10,
      "outputs": [
        {
          "output_type": "stream",
          "text": [
            "E: Package 'python-software-properties' has no installation candidate\n",
            "Selecting previously unselected package google-drive-ocamlfuse.\n",
            "(Reading database ... 144487 files and directories currently installed.)\n",
            "Preparing to unpack .../google-drive-ocamlfuse_0.7.22-0ubuntu3~ubuntu18.04.1_amd64.deb ...\n",
            "Unpacking google-drive-ocamlfuse (0.7.22-0ubuntu3~ubuntu18.04.1) ...\n",
            "Setting up google-drive-ocamlfuse (0.7.22-0ubuntu3~ubuntu18.04.1) ...\n",
            "Processing triggers for man-db (2.8.3-2ubuntu0.1) ...\n",
            "Please, open the following URL in a web browser: https://accounts.google.com/o/oauth2/auth?client_id=32555940559.apps.googleusercontent.com&redirect_uri=urn%3Aietf%3Awg%3Aoauth%3A2.0%3Aoob&scope=https%3A%2F%2Fwww.googleapis.com%2Fauth%2Fdrive&response_type=code&access_type=offline&approval_prompt=force\n",
            "··········\n",
            "Please, open the following URL in a web browser: https://accounts.google.com/o/oauth2/auth?client_id=32555940559.apps.googleusercontent.com&redirect_uri=urn%3Aietf%3Awg%3Aoauth%3A2.0%3Aoob&scope=https%3A%2F%2Fwww.googleapis.com%2Fauth%2Fdrive&response_type=code&access_type=offline&approval_prompt=force\n",
            "Please enter the verification code: Access token retrieved correctly.\n"
          ],
          "name": "stdout"
        }
      ]
    },
    {
      "cell_type": "code",
      "metadata": {
        "id": "0IZSEuIlMpSV",
        "colab_type": "code",
        "colab": {
          "base_uri": "https://localhost:8080/",
          "height": 122
        },
        "outputId": "c5ac2aff-d431-4ee4-89f3-1327ed6a6121"
      },
      "source": [
        "from google.colab import drive\n",
        "drive.mount('/content/drive')\n"
      ],
      "execution_count": 11,
      "outputs": [
        {
          "output_type": "stream",
          "text": [
            "Go to this URL in a browser: https://accounts.google.com/o/oauth2/auth?client_id=947318989803-6bn6qk8qdgf4n4g3pfee6491hc0brc4i.apps.googleusercontent.com&redirect_uri=urn%3aietf%3awg%3aoauth%3a2.0%3aoob&response_type=code&scope=email%20https%3a%2f%2fwww.googleapis.com%2fauth%2fdocs.test%20https%3a%2f%2fwww.googleapis.com%2fauth%2fdrive%20https%3a%2f%2fwww.googleapis.com%2fauth%2fdrive.photos.readonly%20https%3a%2f%2fwww.googleapis.com%2fauth%2fpeopleapi.readonly\n",
            "\n",
            "Enter your authorization code:\n",
            "··········\n",
            "Mounted at /content/drive\n"
          ],
          "name": "stdout"
        }
      ]
    },
    {
      "cell_type": "code",
      "metadata": {
        "id": "wpZmbgAwOJ49",
        "colab_type": "code",
        "colab": {}
      },
      "source": [
        "import os"
      ],
      "execution_count": 12,
      "outputs": []
    },
    {
      "cell_type": "code",
      "metadata": {
        "id": "9spAMjHVORCy",
        "colab_type": "code",
        "colab": {}
      },
      "source": [
        "os.chdir('/content/drive/My Drive/projects')"
      ],
      "execution_count": 13,
      "outputs": []
    },
    {
      "cell_type": "code",
      "metadata": {
        "id": "47mEmf3FPIzw",
        "colab_type": "code",
        "colab": {}
      },
      "source": [
        "model.save('clothing_classification_model.h5')"
      ],
      "execution_count": 14,
      "outputs": []
    },
    {
      "cell_type": "code",
      "metadata": {
        "id": "qx-N0IPaW9Ax",
        "colab_type": "code",
        "colab": {
          "base_uri": "https://localhost:8080/",
          "height": 156
        },
        "outputId": "ed059239-e6c4-47e1-da21-7707fc6e6eae"
      },
      "source": [
        "from keras.models import load_model\n",
        "from keras.preprocessing.image import load_img\n",
        "from keras.preprocessing.image import img_to_array\n",
        "\n",
        "\n",
        "def load_image(filename):\n",
        "\timg = load_img(filename, grayscale=True, target_size=(28, 28))\n",
        "\timg = img_to_array(img)\n",
        "\timg = img.reshape(1, 28, 28, 1)\n",
        "\timg = img.astype('float32')\n",
        "\timg = img / 255.0\n",
        "\treturn img\n",
        "\n",
        "\n",
        "img = load_image('shoe.jpg')\n",
        "\n",
        "model = load_model('clothing_classification_model.h5')\n",
        "\n",
        "class_prediction = model.predict_classes(img)\n",
        "print(class_prediction[0])\n",
        "\n",
        "\n",
        "if class_prediction[0] == 0:\n",
        "  product = \"T-shirt/top\"\n",
        "elif class_prediction[0] == 1:\n",
        "  product = \"Trouser\"\n",
        "elif class_prediction[0] == 2:\n",
        "  product = \"Pullover\"\n",
        "elif class_prediction[0] == 3:\n",
        "  product = \"Dress\"\n",
        "elif class_prediction[0] == 4:\n",
        "  product = \"Coat\"\n",
        "elif class_prediction[0] == 5:\n",
        "  product = \"Sandal\"\n",
        "elif class_prediction[0] == 6:\n",
        "  product = \"Shirt\"\n",
        "elif class_prediction[0] == 7:\n",
        "  product = \"Sneaker\"\n",
        "elif class_prediction[0] == 8:\n",
        "  product = \"Bag\"\n",
        "else:\n",
        "  product = \"Ankle boot\"\n",
        "\n",
        "print(product)"
      ],
      "execution_count": 15,
      "outputs": [
        {
          "output_type": "stream",
          "text": [
            "/usr/local/lib/python3.6/dist-packages/keras_preprocessing/image/utils.py:107: UserWarning: grayscale is deprecated. Please use color_mode = \"grayscale\"\n",
            "  warnings.warn('grayscale is deprecated. Please use '\n"
          ],
          "name": "stderr"
        },
        {
          "output_type": "stream",
          "text": [
            "WARNING:tensorflow:From <ipython-input-15-fc798a66cff4>:19: Sequential.predict_classes (from tensorflow.python.keras.engine.sequential) is deprecated and will be removed after 2021-01-01.\n",
            "Instructions for updating:\n",
            "Please use instead:* `np.argmax(model.predict(x), axis=-1)`,   if your model does multi-class classification   (e.g. if it uses a `softmax` last-layer activation).* `(model.predict(x) > 0.5).astype(\"int32\")`,   if your model does binary classification   (e.g. if it uses a `sigmoid` last-layer activation).\n",
            "9\n",
            "Ankle boot\n"
          ],
          "name": "stdout"
        }
      ]
    }
  ]
}